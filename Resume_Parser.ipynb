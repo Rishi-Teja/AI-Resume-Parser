{
 "cells": [
  {
   "cell_type": "code",
   "execution_count": 1,
   "id": "878004db-9af6-42dc-a0f3-ae4cf64bfd31",
   "metadata": {},
   "outputs": [],
   "source": [
    "import nltk"
   ]
  },
  {
   "cell_type": "code",
   "execution_count": 2,
   "id": "32cd36b2-8c34-48ad-8ed9-94597f4386de",
   "metadata": {},
   "outputs": [],
   "source": [
    "def calculate_score(job_requirements, candidate_skills):\n",
    "    \n",
    "    match_count = sum(1 for word in job_requirements if word in candidate_skills)\n",
    "    return match_count"
   ]
  },
  {
   "cell_type": "code",
   "execution_count": 3,
   "id": "ab264f06-d8e7-4f8a-8b93-3c7eeaaece50",
   "metadata": {},
   "outputs": [],
   "source": [
    "def find_best_candidate(job_requirements, candidate_profiles):\n",
    "    best_candidate = None\n",
    "    best_score = 0\n",
    "\n",
    "    for candidate in candidate_profiles:\n",
    "        candidate_skills = candidate['skills']\n",
    "        candidate_experience = candidate['experience']\n",
    "        communication_skills = candidate['communication_skills']\n",
    "        \n",
    "        score = calculate_score(job_requirements, candidate_skills)\n",
    "        \n",
    "        # Adjust score based on experience\n",
    "        score += candidate_experience\n",
    "        \n",
    "        # Adjust score based on communication skills\n",
    "        if communication_skills == 'excellent':\n",
    "            score += 2\n",
    "        elif communication_skills == 'good':\n",
    "            score += 1\n",
    "        \n",
    "        # Check if the current candidate has a higher score than the previous best candidate\n",
    "        if score > best_score:\n",
    "            best_candidate = candidate\n",
    "            best_score = score\n",
    "\n",
    "    return best_candidate"
   ]
  },
  {
   "cell_type": "code",
   "execution_count": 4,
   "id": "67c7b555-be2c-432d-b10e-684fc1a0ac2e",
   "metadata": {},
   "outputs": [],
   "source": [
    "def print_candidate(candidate):\n",
    "    if candidate:\n",
    "        print(\"Best candidate for the job:\")\n",
    "        print(f\"Name: {candidate['name']}\")\n",
    "        print(f\"Skills: {', '.join(candidate['skills'])}\")\n",
    "        print(f\"Experience: {candidate['experience']} years\")\n",
    "        print(f\"Communication Skills: {candidate['communication_skills']}\")\n",
    "    else:\n",
    "        print(\"No suitable candidates found.\")"
   ]
  },
  {
   "cell_type": "code",
   "execution_count": 5,
   "id": "7af92a93-553d-4b4f-a929-b1114d9533ba",
   "metadata": {},
   "outputs": [],
   "source": [
    "def get_job_requirements():\n",
    "    job_requirements = []\n",
    "    while True:\n",
    "        requirement = input(\"Enter a job requirement (or 'done' to finish): \")\n",
    "        if requirement.lower() == 'done':\n",
    "            break\n",
    "        job_requirements.append(requirement.lower())\n",
    "    return job_requirements"
   ]
  },
  {
   "cell_type": "code",
   "execution_count": 6,
   "id": "18f58b28-b479-4aa1-b373-6df8a178dc9f",
   "metadata": {},
   "outputs": [],
   "source": [
    "def main():\n",
    "    # Get job requirements from the user\n",
    "    print(\"Enter the job requirements:\")\n",
    "    job_requirements = get_job_requirements()\n",
    "\n",
    "    # Define candidate profiles\n",
    "    candidate_profiles = [\n",
    "        {\n",
    "            'name': 'Tharun',\n",
    "            'skills': ['GUI using Pyqt module', 'data analysis', 'java'],\n",
    "            'experience': 3,\n",
    "            'communication_skills': 'excellent'\n",
    "        },\n",
    "        {\n",
    "            'name': 'Sai Teja',\n",
    "            'skills': ['python', 'machine learning', 'data visualization','java'],\n",
    "            'experience': 5,\n",
    "            'communication_skills': 'good'\n",
    "        },\n",
    "        {\n",
    "            'name': 'Vishal',\n",
    "            'skills': ['C++', 'machine learning', 'communication skills','javascript'],\n",
    "            'experience': 2,\n",
    "            'communication_skills': 'excellent'\n",
    "        },\n",
    "        {\n",
    "            'name': 'Anjan',\n",
    "            'skills': ['Html', 'deep learning', 'communication skills','c++'],\n",
    "            'experience': 4,\n",
    "            'communication_skills': 'better'\n",
    "        },\n",
    "        {\n",
    "            'name': 'Abhiram',\n",
    "            'skills': ['python', 'data visualization', 'communication skills','java'],\n",
    "            'experience': 6,\n",
    "            'communication_skills': 'better'\n",
    "        },\n",
    "         {\n",
    "            'name': 'Sathvik',\n",
    "            'skills': ['SQL', 'data handling', 'Html','java'],\n",
    "            'experience': 5,\n",
    "            'communication_skills': 'good'\n",
    "        },\n",
    "        {\n",
    "            'name': 'Upendra',\n",
    "            'skills': ['python', 'data visualization', 'communication skills','deep learning'],\n",
    "            'experience': 5,\n",
    "            'communication_skills': 'excellent'\n",
    "        },\n",
    "         {\n",
    "            'name': 'Uday',\n",
    "            'skills': ['GUI using Pyqt module', 'data analysis', 'communication skills','C'],\n",
    "            'experience': 3,\n",
    "            'communication_skills': 'better'\n",
    "        },\n",
    "         {\n",
    "            'name': 'Yashwanth',\n",
    "            'skills': ['python', 'data analysis', 'C','C++'],\n",
    "            'experience': 6,\n",
    "            'communication_skills': 'good'\n",
    "        },\n",
    "         {\n",
    "            'name': 'Anish',\n",
    "            'skills': ['Html', 'data analysis', 'communication skills','C++'],\n",
    "            'experience': 4,\n",
    "            'communication_skills': 'better'\n",
    "        }\n",
    "        \n",
    "    ]\n",
    "\n",
    "    # Find the best candidate\n",
    "    best_candidate = find_best_candidate(job_requirements, candidate_profiles)\n",
    "\n",
    "    # Output the best candidate\n",
    "    print_candidate(best_candidate)"
   ]
  },
  {
   "cell_type": "code",
   "execution_count": 7,
   "id": "b6beaea0-2e45-450c-80a7-6536feb8434d",
   "metadata": {},
   "outputs": [
    {
     "name": "stdout",
     "output_type": "stream",
     "text": [
      "Enter the job requirements:\n"
     ]
    },
    {
     "name": "stdin",
     "output_type": "stream",
     "text": [
      "Enter a job requirement (or 'done' to finish):  c++\n",
      "Enter a job requirement (or 'done' to finish):  python\n",
      "Enter a job requirement (or 'done' to finish):  data analysis\n",
      "Enter a job requirement (or 'done' to finish):  done\n"
     ]
    },
    {
     "name": "stdout",
     "output_type": "stream",
     "text": [
      "Best candidate for the job:\n",
      "Name: Yashwanth\n",
      "Skills: python, data analysis, C, C++\n",
      "Experience: 6 years\n",
      "Communication Skills: good\n"
     ]
    }
   ],
   "source": [
    "if __name__ == \"__main__\":\n",
    "    main()"
   ]
  },
  {
   "cell_type": "code",
   "execution_count": null,
   "id": "fa8d978f-10c6-4fdc-b9e8-4c34c8ae2ee8",
   "metadata": {},
   "outputs": [],
   "source": []
  }
 ],
 "metadata": {
  "kernelspec": {
   "display_name": "Python 3 (ipykernel)",
   "language": "python",
   "name": "python3"
  },
  "language_info": {
   "codemirror_mode": {
    "name": "ipython",
    "version": 3
   },
   "file_extension": ".py",
   "mimetype": "text/x-python",
   "name": "python",
   "nbconvert_exporter": "python",
   "pygments_lexer": "ipython3",
   "version": "3.12.4"
  }
 },
 "nbformat": 4,
 "nbformat_minor": 5
}
